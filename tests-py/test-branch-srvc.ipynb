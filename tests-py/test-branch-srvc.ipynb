{
 "cells": [
  {
   "cell_type": "markdown",
   "id": "9dfbeccc-ff7b-4ba0-aa68-054839682aa3",
   "metadata": {},
   "source": [
    "# Тестові кейси для прототипа API branch-srvc"
   ]
  },
  {
   "cell_type": "markdown",
   "id": "286197c6-15a9-44a7-9390-c09b6746e82f",
   "metadata": {},
   "source": [
    "## Тестуємо  API для створення корпорації для  заахування на карти\n",
    "- BaseURL: **/corporate-api/corporate**"
   ]
  },
  {
   "cell_type": "markdown",
   "id": "eada2e88-24dd-4b38-b56c-1be51cd4d038",
   "metadata": {},
   "source": [
    "### Створити нову корпорацію"
   ]
  },
  {
   "cell_type": "code",
   "execution_count": 7,
   "id": "e4357898-818b-49de-b6f6-5b4586f83ad3",
   "metadata": {},
   "outputs": [
    {
     "name": "stdout",
     "output_type": "stream",
     "text": [
      "INFO:test_createСorp:Опис тесту: ================ Створити корпорацію ================\n",
      "INFO:test_createСorp:Отримую тестовий запит\n",
      "INFO:test_createСorp:Формую запит на url: http://localhost:8080/corporate-api/corporate\n",
      "INFO:test_createСorp:Method: http-PUT\n",
      "INFO:test_createСorp:Тіло запиту: {\"name\": \"Рошенка Цукерки-Трейдінг\", \"edrpou\": \"4455123\", \"contacts\": \"Проспект Науки 1, буд 1, індекс 19231\"}\n",
      "INFO:test_createСorp:Виконю http запит\n",
      "INFO:test_createСorp:Response: {\"corporateid\":\"CORP-57991a5b8b0c428f24e74b1b213cc178\"}\n",
      "INFO:test_createСorp:Перевіря відповідь  statusCode=200\n"
     ]
    },
    {
     "name": "stderr",
     "output_type": "stream",
     "text": [
      ".\n",
      "----------------------------------------------------------------------\n",
      "Ran 1 test in 0.572s\n",
      "\n",
      "OK\n"
     ]
    }
   ],
   "source": [
    "import requests\n",
    "import unittest\n",
    "import sys\n",
    "import logging\n",
    "import json\n",
    "import datetime\n",
    "import base64\n",
    "\n",
    "logging.basicConfig(stream=sys.stdout, level=logging.INFO)\n",
    "\n",
    "class TestCorporateAPI(unittest.TestCase):\n",
    "    baseurl=\"http://localhost:8080\"\n",
    "    requests={}\n",
    "    \n",
    "    requests[\"createCorpporate\"]={\n",
    "                                  \"name\": \"Університет Шевченка\",\n",
    "                                  \"edrpou\": \"1234567\",\n",
    "                                  \"contacts\": \"Вулиця Володимирська 60, буд 1, індекс 12323\"\n",
    "    }\n",
    "\n",
    "    \"\"\"\n",
    "    requests[\"createCorpporate\"]={\n",
    "                                  \"name\": \"Рошенка Цукерки-Трейдінг\",\n",
    "                                  \"edrpou\": \"4455123\",\n",
    "                                  \"contacts\": \"Проспект Науки 1, буд 1, індекс 19231\"\n",
    "    }\n",
    "    \"\"\"\n",
    "    \n",
    "    def setUp(self):\n",
    "        log=logging.getLogger('setUp')\n",
    "        #log.info(\"1\")\n",
    "\n",
    "\n",
    "    def tearDown(self):\n",
    "        log=logging.getLogger('tearDown')\n",
    "        #log.info(\"2\")\n",
    "\n",
    "\n",
    "  \n",
    "    def test_createСorp(self):\n",
    "        \"\"\"================ Створити корпорацію ================\"\"\"\n",
    "        log=logging.getLogger('test_createСorp')\n",
    "        log.info( f\"Опис тесту: {self.shortDescription()}\" )\n",
    "\n",
    "        log.info( f\"Отримую тестовий запит\")\n",
    "        req_obj = TestCorporateAPI.requests[\"createCorpporate\"]\n",
    "        req_url=TestCorporateAPI.baseurl + \"/corporate-api/corporate\"\n",
    "        req_data=json.dumps(req_obj, ensure_ascii=False )\n",
    "        log.info(f\"Формую запит на url: {req_url}\")\n",
    "        log.info(\"Method: http-PUT\")\n",
    "        log.info(f\"Тіло запиту: {req_data}\")\n",
    "        \n",
    "        log.info(\"Виконю http запит\")\n",
    "        response = requests.put(req_url,  data=req_data , headers={'Content-Type': 'application/json'} )    \n",
    "        log.info(f\"Response: {response.text}\")\n",
    "        log.info(\"Перевіря відповідь  statusCode=200\")\n",
    "        self.assertEqual(response.status_code, 200)\n",
    "        res_dict=response.json()\n",
    "\n",
    "    def test_getСorp(self):\n",
    "            \"\"\"================ Прочитати дані корпорації ================\"\"\"\n",
    "            log=logging.getLogger('test_createСorp')\n",
    "            log.info( f\"Опис тесту: {self.shortDescription()}\" )\n",
    "    \n",
    "            log.info( f\"Отримую тестовий запит\")\n",
    "            req_obj = TestCorporateAPI.requests[\"createCorpporate\"]\n",
    "            req_url=TestCorporateAPI.baseurl + \"/corporate-api/corporate\"\n",
    "            req_data=json.dumps(req_obj, ensure_ascii=False )\n",
    "            log.info(f\"Формую запит на url: {req_url}\")\n",
    "            log.info(\"Method: http-PUT\")\n",
    "            log.info(f\"Тіло запиту: {req_data}\")\n",
    "            \n",
    "            log.info(\"Виконю http запит\")\n",
    "            response = requests.put(req_url,  data=req_data , headers={'Content-Type': 'application/json'} )    \n",
    "            log.info(f\"Response: {response.text}\")\n",
    "            log.info(\"Перевіря відповідь  statusCode=200\")\n",
    "            self.assertEqual(response.status_code, 200)\n",
    "            res_dict=response.json()\n",
    "\n",
    "\n",
    "   \n",
    "def suite():\n",
    "    suite = unittest.TestSuite()\n",
    "    suite.addTest(TestCorporateAPI('test_createСorp'))\n",
    "\n",
    "    return suite\n",
    "\n",
    "if __name__ == '__main__':\n",
    "    runner = unittest.TextTestRunner()\n",
    "    runner.run(suite())"
   ]
  },
  {
   "cell_type": "markdown",
   "id": "40ea79e0-0487-4827-a6f7-76db567cdf27",
   "metadata": {},
   "source": [
    "## Створені корпорації\n",
    "- \"corporateid\":\"CORP-57991a5b8b0c428f24e74b1b213cb806\" - Університет шевченка\n",
    "-  \"corporateid\":\"CORP-57991a5b8b0c428f24e74b1b213cc178\" - Рошенка Цукерки-Трейдінг\n"
   ]
  },
  {
   "cell_type": "code",
   "execution_count": null,
   "id": "841abf2a-d43f-4489-b033-84f2cb2a60c7",
   "metadata": {},
   "outputs": [],
   "source": []
  },
  {
   "cell_type": "code",
   "execution_count": null,
   "id": "915292bc-cd84-43b8-94a6-79281e9e0c0b",
   "metadata": {},
   "outputs": [],
   "source": []
  }
 ],
 "metadata": {
  "kernelspec": {
   "display_name": "Python 3 (ipykernel)",
   "language": "python",
   "name": "python3"
  },
  "language_info": {
   "codemirror_mode": {
    "name": "ipython",
    "version": 3
   },
   "file_extension": ".py",
   "mimetype": "text/x-python",
   "name": "python",
   "nbconvert_exporter": "python",
   "pygments_lexer": "ipython3",
   "version": "3.11.2"
  }
 },
 "nbformat": 4,
 "nbformat_minor": 5
}
