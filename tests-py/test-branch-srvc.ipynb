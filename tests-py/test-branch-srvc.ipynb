{
 "cells": [
  {
   "cell_type": "markdown",
   "id": "9dfbeccc-ff7b-4ba0-aa68-054839682aa3",
   "metadata": {},
   "source": [
    "# Тестові кейси для прототипа API branch-srvc"
   ]
  },
  {
   "cell_type": "markdown",
   "id": "286197c6-15a9-44a7-9390-c09b6746e82f",
   "metadata": {},
   "source": [
    "## Тестуємо  API для створення корпорації для  заахування на карти\n",
    "- BaseURL: **/corporate-api/corporate**"
   ]
  },
  {
   "cell_type": "markdown",
   "id": "eada2e88-24dd-4b38-b56c-1be51cd4d038",
   "metadata": {},
   "source": [
    "###  Створити нову корпорацію, http-put"
   ]
  },
  {
   "cell_type": "code",
   "execution_count": 9,
   "id": "e4357898-818b-49de-b6f6-5b4586f83ad3",
   "metadata": {},
   "outputs": [
    {
     "name": "stdout",
     "output_type": "stream",
     "text": [
      "INFO:test_createСorp:Опис тесту: ================ Створити корпорацію ================\n",
      "INFO:test_createСorp:Отримую тестовий запит\n",
      "INFO:test_createСorp:Формую запит на url: http://localhost:8080/corporate-api/corporate\n",
      "INFO:test_createСorp:Method: http-PUT\n",
      "INFO:test_createСorp:Тіло запиту: {\"name\": \"Університет Шевченка\", \"edrpou\": \"1234567\", \"contacts\": \"Вулиця Володимирська 60, буд 1, індекс 12323\"}\n",
      "INFO:test_createСorp:Виконю http запит\n",
      "INFO:test_createСorp:Response: {\"corporateid\":\"CORP-b6b02fee3ba9048bc0d057a250b6e873\"}\n",
      "INFO:test_createСorp:Перевіря відповідь  statusCode=200\n"
     ]
    },
    {
     "name": "stderr",
     "output_type": "stream",
     "text": [
      "."
     ]
    },
    {
     "name": "stdout",
     "output_type": "stream",
     "text": [
      "INFO:test_getСorpList:Опис тесту: ================ Отримати список всіх корпорацій  ================\n",
      "INFO:test_getСorpList:Формую запит на url: http://localhost:8080/corporate-api/corporate\n",
      "INFO:test_getСorpList:Method: http-get\n",
      "INFO:test_getСorpList:Виконю http запит\n",
      "INFO:test_getСorpList:Response: [{\"_id\":\"CORP-2b3307c6003746e0c38c6732a4e68adf\",\"_rev\":\"1-e798abd7b55545c01c323c0aa7ad35ba\",\"type\":\"CORPORATE\",\"name\":\"Університет Шевченка\",\"contacts\":\"Вулиця Володимирська 60, буд 1, індекс 12323\",\"branches\":[]},{\"_id\":\"CORP-821d5655a7dcd7f1017eaae1db60ffe6\",\"_rev\":\"1-e798abd7b55545c01c323c0aa7ad35ba\",\"type\":\"CORPORATE\",\"name\":\"Університет Шевченка\",\"contacts\":\"Вулиця Володимирська 60, буд 1, індекс 12323\",\"branches\":[]},{\"_id\":\"CORP-b51d69eceee531cfd3a57d3a5bfc9de4\",\"_rev\":\"1-e798abd7b55545c01c323c0aa7ad35ba\",\"type\":\"CORPORATE\",\"name\":\"Університет Шевченка\",\"contacts\":\"Вулиця Володимирська 60, буд 1, індекс 12323\",\"branches\":[]},{\"_id\":\"CORP-b6b02fee3ba9048bc0d057a250aff1ac\",\"_rev\":\"1-b015cf1c533bece692bd7c8a22d5676c\",\"type\":\"CORPORATE\",\"name\":\"Авто трейдінг легкових\",\"contacts\":\"Вул. Інституцька 27, буд 3, індекс 19222\",\"branches\":[]},{\"_id\":\"CORP-b6b02fee3ba9048bc0d057a250b6e873\",\"_rev\":\"1-e798abd7b55545c01c323c0aa7ad35ba\",\"type\":\"CORPORATE\",\"name\":\"Університет Шевченка\",\"contacts\":\"Вулиця Володимирська 60, буд 1, індекс 12323\",\"branches\":[]},{\"_id\":\"CORP-ebc6a35db0853c6cd0cedc11226a8d72\",\"_rev\":\"1-e798abd7b55545c01c323c0aa7ad35ba\",\"type\":\"CORPORATE\",\"name\":\"Університет Шевченка\",\"contacts\":\"Вулиця Володимирська 60, буд 1, індекс 12323\",\"branches\":[]}]\n",
      "INFO:test_getСorpList:Перевіря відповідь  statusCode=200\n"
     ]
    },
    {
     "name": "stderr",
     "output_type": "stream",
     "text": [
      "."
     ]
    },
    {
     "name": "stdout",
     "output_type": "stream",
     "text": [
      "INFO:test_getСorpItem:Опис тесту: ================ Отримати одну корпорацію оп id  ================\n",
      "INFO:test_getСorpItem:Формую запит на url: http://localhost:8080/corporate-api/corporate/CORP-2b3307c6003746e0c38c6732a4e68adf\n",
      "INFO:test_getСorpItem:Method: http-get\n",
      "INFO:test_getСorpItem:Виконю http запит\n",
      "INFO:test_getСorpItem:Response: {\"_id\":\"CORP-2b3307c6003746e0c38c6732a4e68adf\",\"_rev\":\"1-e798abd7b55545c01c323c0aa7ad35ba\",\"type\":\"CORPORATE\",\"name\":\"Університет Шевченка\",\"contacts\":\"Вулиця Володимирська 60, буд 1, індекс 12323\",\"branches\":[]}\n",
      "INFO:test_getСorpItem:Перевіря відповідь  statusCode=200\n"
     ]
    },
    {
     "name": "stderr",
     "output_type": "stream",
     "text": [
      "."
     ]
    },
    {
     "name": "stdout",
     "output_type": "stream",
     "text": [
      "INFO:test_deleteСorpItem:Опис тесту: ================ Видалити одну корпорацію оп id  ================\n",
      "INFO:test_deleteСorpItem:Формую запит на url: http://localhost:8080/corporate-api/corporate/CORP-2b3307c6003746e0c38c6732a4e68adf\n",
      "INFO:test_deleteСorpItem:Method: http-get\n",
      "INFO:test_deleteСorpItem:Виконю http запит\n",
      "INFO:test_deleteСorpItem:Response: {\"_id\":\"CORP-2b3307c6003746e0c38c6732a4e68adf\",\"_rev\":\"1-e798abd7b55545c01c323c0aa7ad35ba\",\"type\":\"CORPORATE\",\"name\":\"Університет Шевченка\",\"contacts\":\"Вулиця Володимирська 60, буд 1, індекс 12323\",\"branches\":[]}\n",
      "INFO:test_deleteСorpItem:Перевіря відповідь  statusCode=200\n"
     ]
    },
    {
     "name": "stderr",
     "output_type": "stream",
     "text": [
      ".\n",
      "----------------------------------------------------------------------\n",
      "Ran 4 tests in 0.573s\n",
      "\n",
      "OK\n"
     ]
    }
   ],
   "source": [
    "import requests\n",
    "import unittest\n",
    "import sys\n",
    "import logging\n",
    "import json\n",
    "import datetime\n",
    "import base64\n",
    "\n",
    "logging.basicConfig(stream=sys.stdout, level=logging.INFO)\n",
    "\n",
    "class TestCorporateAPI(unittest.TestCase):\n",
    "    baseurl=\"http://localhost:8080\"\n",
    "    corporates={}\n",
    "    requests={}\n",
    "    \n",
    "    \n",
    "    requests[\"createCorpporate\"]={\n",
    "                                  \"name\": \"Університет Шевченка\",\n",
    "                                  \"edrpou\": \"1234567\",\n",
    "                                  \"contacts\": \"Вулиця Володимирська 60, буд 1, індекс 12323\"\n",
    "    }\n",
    "\n",
    "    \"\"\"\n",
    "    requests[\"createCorpporate\"]={\n",
    "                                  \"name\": \"Авто трейдінг легкових\",\n",
    "                                  \"edrpou\": \"1431120\",\n",
    "                                  \"contacts\": \"Вул. Інституцька 27, буд 3, індекс 19222\"\n",
    "    }\n",
    "    \"\"\"\n",
    "\n",
    "    \n",
    "    def setUp(self):\n",
    "        log=logging.getLogger('setUp')\n",
    "        #log.info(\"1\")\n",
    "\n",
    "\n",
    "    def tearDown(self):\n",
    "        log=logging.getLogger('tearDown')\n",
    "        #log.info(\"2\")\n",
    "\n",
    "\n",
    "  \n",
    "    def test_createСorp(self):\n",
    "        \"\"\"================ Створити корпорацію ================\"\"\"\n",
    "        log=logging.getLogger('test_createСorp')\n",
    "        log.info( f\"Опис тесту: {self.shortDescription()}\" )\n",
    "\n",
    "        log.info( f\"Отримую тестовий запит\")\n",
    "        req_obj = TestCorporateAPI.requests[\"createCorpporate\"]\n",
    "        req_url=TestCorporateAPI.baseurl + \"/corporate-api/corporate\"\n",
    "        req_data=json.dumps(req_obj, ensure_ascii=False )\n",
    "        log.info(f\"Формую запит на url: {req_url}\")\n",
    "        log.info(\"Method: http-PUT\")\n",
    "        log.info(f\"Тіло запиту: {req_data}\")\n",
    "        \n",
    "        log.info(\"Виконю http запит\")\n",
    "        response = requests.put(req_url,  data=req_data , headers={'Content-Type': 'application/json'} )    \n",
    "        log.info(f\"Response: {response.text}\")\n",
    "        log.info(\"Перевіря відповідь  statusCode=200\")\n",
    "        self.assertEqual(response.status_code, 200)\n",
    "        res_dict=response.json()\n",
    "\n",
    "    def test_getСorpList(self):\n",
    "            \"\"\"================ Отримати список всіх корпорацій  ================\"\"\"\n",
    "            log=logging.getLogger('test_getСorpList')\n",
    "            log.info( f\"Опис тесту: {self.shortDescription()}\" )\n",
    "            req_url=TestCorporateAPI.baseurl + \"/corporate-api/corporate\"\n",
    "          \n",
    "            log.info(f\"Формую запит на url: {req_url}\")\n",
    "            log.info(\"Method: http-get\")\n",
    "            log.info(\"Виконю http запит\")\n",
    "            response = requests.get(req_url, headers={'Content-Type': 'application/json'} )    \n",
    "            log.info(f\"Response: {response.text}\")\n",
    "            log.info(\"Перевіря відповідь  statusCode=200\")\n",
    "            self.assertEqual(response.status_code, 200)\n",
    "            res_dict=response.json()\n",
    "            TestCorporateAPI.corporates[\"list\"]=res_dict\n",
    "\n",
    "    def test_getСorpItem(self):\n",
    "            \"\"\"================ Отримати одну корпорацію оп id  ================\"\"\"\n",
    "            log=logging.getLogger('test_getСorpItem')\n",
    "            log.info( f\"Опис тесту: {self.shortDescription()}\" )\n",
    "            corporateList=TestCorporateAPI.corporates[\"list\"]\n",
    "            if len(corporateList) > 0:\n",
    "                corporateid=corporateList[0][\"_id\"]\n",
    "                req_url=TestCorporateAPI.baseurl + f\"/corporate-api/corporate/{corporateid}\"\n",
    "                log.info(f\"Формую запит на url: {req_url}\")\n",
    "                log.info(\"Method: http-get\")\n",
    "                log.info(\"Виконю http запит\")\n",
    "                response = requests.get(req_url, headers={'Content-Type': 'application/json'} )    \n",
    "                log.info(f\"Response: {response.text}\")\n",
    "                log.info(\"Перевіря відповідь  statusCode=200\")\n",
    "                self.assertEqual(response.status_code, 200)\n",
    "                res_dict=response.json()\n",
    "                \n",
    "    def test_deleteСorpItem(self):\n",
    "            \"\"\"================ Видалити одну корпорацію оп id  ================\"\"\"\n",
    "            log=logging.getLogger('test_deleteСorpItem')\n",
    "            log.info( f\"Опис тесту: {self.shortDescription()}\" )\n",
    "            corporateList=TestCorporateAPI.corporates[\"list\"]\n",
    "            if len(corporateList) > 0:\n",
    "                corporateid=corporateList[0][\"_id\"]\n",
    "                req_url=TestCorporateAPI.baseurl + f\"/corporate-api/corporate/{corporateid}\"\n",
    "                log.info(f\"Формую запит на url: {req_url}\")\n",
    "                log.info(\"Method: http-get\")\n",
    "                log.info(\"Виконю http запит\")\n",
    "                response = requests.get(req_url, headers={'Content-Type': 'application/json'} )    \n",
    "                log.info(f\"Response: {response.text}\")\n",
    "                log.info(\"Перевіря відповідь  statusCode=200\")\n",
    "                self.assertEqual(response.status_code, 200)\n",
    "                res_dict=response.json()\n",
    "   \n",
    "def suite():\n",
    "    suite = unittest.TestSuite()\n",
    "    suite.addTest(TestCorporateAPI('test_createСorp'))\n",
    "    suite.addTest(TestCorporateAPI('test_getСorpList'))    \n",
    "    suite.addTest(TestCorporateAPI('test_getСorpItem'))   \n",
    "    suite.addTest(TestCorporateAPI('test_deleteСorpItem'))   \n",
    "\n",
    "    return suite\n",
    "\n",
    "if __name__ == '__main__':\n",
    "    runner = unittest.TextTestRunner()\n",
    "    runner.run(suite())"
   ]
  },
  {
   "cell_type": "markdown",
   "id": "40ea79e0-0487-4827-a6f7-76db567cdf27",
   "metadata": {},
   "source": [
    "### Отримати список всіх корпорацій"
   ]
  },
  {
   "cell_type": "code",
   "execution_count": null,
   "id": "841abf2a-d43f-4489-b033-84f2cb2a60c7",
   "metadata": {},
   "outputs": [],
   "source": []
  },
  {
   "cell_type": "code",
   "execution_count": null,
   "id": "915292bc-cd84-43b8-94a6-79281e9e0c0b",
   "metadata": {},
   "outputs": [],
   "source": []
  }
 ],
 "metadata": {
  "kernelspec": {
   "display_name": "Python 3 (ipykernel)",
   "language": "python",
   "name": "python3"
  },
  "language_info": {
   "codemirror_mode": {
    "name": "ipython",
    "version": 3
   },
   "file_extension": ".py",
   "mimetype": "text/x-python",
   "name": "python",
   "nbconvert_exporter": "python",
   "pygments_lexer": "ipython3",
   "version": "3.11.2"
  }
 },
 "nbformat": 4,
 "nbformat_minor": 5
}
