{
 "cells": [
  {
   "cell_type": "markdown",
   "id": "0242b134-f490-44e6-805d-ed88b40e1a64",
   "metadata": {},
   "source": [
    "# Учимся працюваит з БД ORACLE  на Python"
   ]
  },
  {
   "cell_type": "markdown",
   "id": "75e8326b-e7e9-49a2-bb81-89ed16153d26",
   "metadata": {},
   "source": [
    "## Допоміжна документація\n",
    "- [Introduction to the Python Driver for Oracle Database](https://python-oracledb.readthedocs.io/en/latest/user_guide/introduction.html#introduction-to-the-python-driver-for-oracle-database)\n",
    "- [Python python-oracledb Driver](https://oracle.github.io/python-oracledb/)\n",
    "- [Python: Read Data from Oracle Database](https://kontext.tech/article/1019/python-read-data-from-oracle-database)"
   ]
  },
  {
   "cell_type": "markdown",
   "id": "ac7bc073-7035-4a7c-9233-5260abfbf95a",
   "metadata": {},
   "source": [
    "## Підключення до БД через \"товстий\" клієнт ORACLE та виборка одного запису з його виводом через \"print\"\n",
    "- Очікується, що вибиирається тільки один запис [5.1.1. Fetch Methods](https://python-oracledb.readthedocs.io/en/latest/user_guide/sql_execution.html#fetch-methods)\n",
    "- Прив'язка зміних запиту виконується через **змінні прив'язки**"
   ]
  },
  {
   "cell_type": "code",
   "execution_count": 3,
   "id": "aa61c884-f0bd-4a22-8589-f6202dcd9718",
   "metadata": {},
   "outputs": [],
   "source": [
    "    import oracledb\n",
    "    import getpass\n",
    "    \n",
    "    username = \"Oracle Username\"\n",
    "    #userpwd = \"\"\n",
    "    userpwd = getpass.getpass(\"Enter password: \")\n",
    "\n",
    "    host=\"10.11.4.16\"\n",
    "    port=\"1722\"\n",
    "    service_name=\"TORCL\"\n",
    "    dsn = f'{username}/{userpwd}@{host}:{port}/{service_name}'"
   ]
  },
  {
   "cell_type": "code",
   "execution_count": 17,
   "id": "a3a882cc-6d73-441e-852f-af7bc246a9f0",
   "metadata": {},
   "outputs": [
    {
     "name": "stdout",
     "output_type": "stream",
     "text": [
      "('DIY.STATUS.URL', 'https://pspapi-test.pravex.ua')\n"
     ]
    }
   ],
   "source": [
    "    import oracledb\n",
    "    connection = oracledb.connect(dsn)\n",
    "    with connection.cursor() as cursor:\n",
    "            sql = \"\"\"select t.parm_name,t.parm_value from lgw.SOAP_PARM t where parm_name = :pname \"\"\"\n",
    "            cursor.execute(sql, {\"pname\": \"DIY.STATUS.URL\"})\n",
    "            row = cursor.fetchone()\n",
    "            print(row)\n",
    "\n",
    "    connection.close()\n"
   ]
  },
  {
   "cell_type": "markdown",
   "id": "2ef238eb-e165-4a39-9284-915cdeeb5744",
   "metadata": {},
   "source": [
    "## Підключення до БД і втборка кількох ROWS"
   ]
  },
  {
   "cell_type": "code",
   "execution_count": 21,
   "id": "19cab149-cff2-41c6-b93b-ad21e5afd597",
   "metadata": {},
   "outputs": [
    {
     "name": "stdout",
     "output_type": "stream",
     "text": [
      "(103619, 103616, 'Відділ генерального секретаріату', 1, 'Отдел генерального секретариата General Secretariat Office', '000')\n",
      "(103620, 103616, 'Департамент внутрішнього аудиту', 0, 'Департамент внутреннего аудита Internal Audit Department', '000')\n",
      "(103621, 103620, 'відділ аудиту Головного банку', 1, 'Отдел аудита Головного банка Office of Audit of Head Office', '000')\n",
      "(103622, 103620, 'Відділ аудиту регіональних центрів та відділень (л)', 1, 'Отдел аудита региональных центров и отделений Audit of Regional Centers and Branches Office', '000')\n",
      "(103623, 103620, 'Відділ аудиту інформаційних технологій ', 1, 'Отдел аудита информационных технологий IT Audit Office', '000')\n",
      "(103626, 103625, 'Організаційний відділ', 1, 'Организационный отдел Organization office', '000')\n",
      "(103627, 103625, 'Відділ управління проектами', 1, 'Отдел управления проектами Project Management office', '000')\n",
      "(103628, 103616, 'Департамент управління персоналом (л)', 1, 'Департамент управления персоналом Human Resourses Management Department', '000')\n",
      "(103629, 103628, 'Відділ підбору та управління персоналом', 1, 'Отдел подбора и управления персоналом Recruitment and people management Office', '000')\n"
     ]
    }
   ],
   "source": [
    "import oracledb\n",
    "\n",
    "connection = oracledb.connect(dsn)\n",
    "cursor = connection.cursor()\n",
    "cursor.execute(\"SELECT T.ID_DIVISION, T.PARENT_ID, T.DIVISION, T.DISABLED, T.LONGNAME, T.KTOTD FROM ABS_NSI.ABS$EMPDIV T WHERE ROWNUM<10\")\n",
    "num_rows = 10\n",
    "while True:\n",
    "    rows = cursor.fetchmany(size=num_rows)\n",
    "    if not rows:\n",
    "        break\n",
    "    for row in rows:\n",
    "        print(row)\n",
    "cursor.close()  \n",
    "connection.close()"
   ]
  },
  {
   "cell_type": "markdown",
   "id": "eb866dec-1867-4ea3-8f7b-8160555ca213",
   "metadata": {},
   "source": [
    "## Визначення метаданим даних: [5.1.3. Query Column Metadata](https://python-oracledb.readthedocs.io/en/latest/user_guide/sql_execution.html#query-column-metadata) та мапінг типів даних: [5.1.4. Fetch Data Types](https://python-oracledb.readthedocs.io/en/latest/user_guide/sql_execution.html#fetch-data-types)"
   ]
  },
  {
   "cell_type": "code",
   "execution_count": 10,
   "id": "62e78943-7e62-4b16-b0f2-55e56ea8bc88",
   "metadata": {},
   "outputs": [
    {
     "name": "stdout",
     "output_type": "stream",
     "text": [
      "('IDSF', <DbType DB_TYPE_NUMBER>, 39, None, 38, 0, False)\n",
      "('IDSG', <DbType DB_TYPE_NUMBER>, 39, None, 38, 0, True)\n",
      "('APPFNAME', <DbType DB_TYPE_VARCHAR>, 512, 512, None, None, True)\n",
      "('APPFCONTENT', <DbType DB_TYPE_BLOB>, None, None, None, None, True)\n",
      "('APPFHASH', <DbType DB_TYPE_VARCHAR>, 64, 64, None, None, True)\n",
      "('APPFSIGN', <DbType DB_TYPE_BLOB>, None, None, None, None, True)\n",
      "('IUSRNM', <DbType DB_TYPE_VARCHAR>, 30, 30, None, None, True)\n",
      "('IDT', <DbType DB_TYPE_DATE>, 23, None, None, None, True)\n",
      "('MUSRNM', <DbType DB_TYPE_VARCHAR>, 30, 30, None, None, True)\n",
      "('MDT', <DbType DB_TYPE_DATE>, 23, None, None, None, True)\n",
      "(172236, 172235, 'ustav.doc', <oracledb.LOB object at 0x00000216F17224E0>, 'lkOeILR+DTAd0Fe6bHrc/vOhyUHHabHnHY1WN0bZCNs=', None, 'LGW_RMT_MSGB', datetime.datetime(2024, 10, 29, 12, 29, 24), 'LGW_RMT_MSGB', datetime.datetime(2024, 10, 29, 12, 29, 25))\n"
     ]
    }
   ],
   "source": [
    "import oracledb\n",
    "\n",
    "connection = oracledb.connect(dsn)\n",
    "cursor = connection.cursor()\n",
    "\n",
    "sql = \"\"\"SELECT T.* FROM QPF.DIIA$FILE$SGN$ITEMS T WHERE T.IDSF=:A_IDSF\"\"\"\n",
    "cursor.execute(sql, {\"A_IDSF\": 172236})\n",
    "for col in cursor.description:\n",
    "    print(col)\n",
    "    \n",
    "num_rows = 10\n",
    "while True:\n",
    "    rows = cursor.fetchmany(size=num_rows)\n",
    "    if not rows:\n",
    "        break\n",
    "    for row in rows:\n",
    "        print(row)\n",
    "    \n",
    "connection.close()"
   ]
  },
  {
   "cell_type": "markdown",
   "id": "0799a8b3-0547-45a4-bb33-77a16b80f480",
   "metadata": {},
   "source": [
    "## Пробуємо прочитати дані так, щоб отриманий набір даних трансформувати в Dictionary"
   ]
  },
  {
   "cell_type": "code",
   "execution_count": 14,
   "id": "38352c14-f5f4-4d3f-93cf-10a7d49db499",
   "metadata": {},
   "outputs": [
    {
     "name": "stdout",
     "output_type": "stream",
     "text": [
      "[{'IDSG': 172235, 'IDSYS': 'SEBFL.ONBOARDING    ', 'APPID': 'appdoc-12345656', 'APPUSRNM': None, 'APPDT': None, 'DPL_DLINK': 'https://deeplink/test', 'TRACEID': '1c7a10d7-0143-4476-a970-3611673d287f', 'CRTTRACEID': '2024-10-29T10:29:25.369Z', 'PROCSTATUS': 'SENT', 'PROCSTATUSDSC': None, 'IUSRNM': 'LGW_RMT_MSGB', 'IDT': datetime.datetime(2024, 10, 29, 12, 29, 24), 'MUSRNM': 'LGW_RMT_MSGB', 'MDT': datetime.datetime(2024, 10, 29, 12, 29, 26)}, {'IDSG': 172232, 'IDSYS': 'SEBFL.ONBOARDING    ', 'APPID': 'appdoc-12345678', 'APPUSRNM': None, 'APPDT': None, 'DPL_DLINK': None, 'TRACEID': None, 'CRTTRACEID': None, 'PROCSTATUS': 'NEW', 'PROCSTATUSDSC': None, 'IUSRNM': 'LGW_RMT_MSGB', 'IDT': datetime.datetime(2024, 10, 29, 11, 31, 41), 'MUSRNM': None, 'MDT': None}]\n"
     ]
    }
   ],
   "source": [
    "import oracledb\n",
    "\n",
    "connection = oracledb.connect(dsn)\n",
    "cursor = connection.cursor()\n",
    "\n",
    "sql = \"\"\"SELECT T.*FROM QPF.DIIA$FILE$SGN T\"\"\"\n",
    "cursor.execute(sql)\n",
    "\n",
    "columns = [col[0] for col in cursor.description]\n",
    "cursor.rowfactory = lambda *args: dict(zip(columns, args))\n",
    "data = cursor.fetchall()\n",
    "print(data)\n",
    "cursor.close()\n",
    "    \n",
    "connection.close()\n"
   ]
  },
  {
   "cell_type": "markdown",
   "id": "e4cf9a62-00ae-4028-b2b4-727c605ef764",
   "metadata": {},
   "source": [
    "## Вставка даних в БД\n",
    "- [5.2. INSERT and UPDATE Statements](https://python-oracledb.readthedocs.io/en/latest/user_guide/sql_execution.html#insert-and-update-statements)\n",
    "  [9. Managing Transactions](https://python-oracledb.readthedocs.io/en/latest/user_guide/txn_management.html#managing-transactions)"
   ]
  },
  {
   "cell_type": "code",
   "execution_count": 18,
   "id": "f360c075-c53c-424f-9241-e3a9aa41a86c",
   "metadata": {},
   "outputs": [],
   "source": [
    "import oracledb\n",
    "\n",
    "connection = oracledb.connect(dsn)\n",
    "cursor = connection.cursor()\n",
    "\n",
    "sql = \"\"\"insert into QPF.DIIA_FILE$SGN_MDF \n",
    "          ( IDSYS, APPID, APPUSRNM,  PROCSTATUS) VALUES \n",
    "          ( :A_IDSYS, :A_APPID, :A_APPUSRNM, :A_PROCSTATUS )\"\"\"\n",
    "\n",
    "cursor.execute(sql, {\"A_IDSYS\": \"SEBFL.ONBOARDING\" , \"A_APPID\": \"PYTEST\", \"A_APPUSRNM\": \"USERAPP\", \"A_PROCSTATUS\": \"NEW\"})\n",
    "\n",
    "connection.commit()\n",
    "cursor.close()\n",
    "    \n",
    "connection.close()"
   ]
  },
  {
   "cell_type": "code",
   "execution_count": null,
   "id": "4b6dce7b-33fe-45d9-a7aa-02ab4c843e94",
   "metadata": {},
   "outputs": [],
   "source": []
  }
 ],
 "metadata": {
  "kernelspec": {
   "display_name": "Python 3 (ipykernel)",
   "language": "python",
   "name": "python3"
  },
  "language_info": {
   "codemirror_mode": {
    "name": "ipython",
    "version": 3
   },
   "file_extension": ".py",
   "mimetype": "text/x-python",
   "name": "python",
   "nbconvert_exporter": "python",
   "pygments_lexer": "ipython3",
   "version": "3.12.2"
  }
 },
 "nbformat": 4,
 "nbformat_minor": 5
}
