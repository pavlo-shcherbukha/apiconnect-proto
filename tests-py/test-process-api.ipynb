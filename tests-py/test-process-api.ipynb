{
 "cells": [
  {
   "cell_type": "markdown",
   "id": "bb530375-5ee9-49ed-b5a3-5a412029c8c6",
   "metadata": {},
   "source": [
    "# process-api короткий опис та приклади unit тестів\n",
    "Цей API розроблено для **банку**, щоб обробити платіжну відомість"
   ]
  },
  {
   "cell_type": "markdown",
   "id": "982b14d2-b549-4ca6-83f0-89cdd2a1368a",
   "metadata": {
    "jp-MarkdownHeadingCollapsed": true
   },
   "source": [
    "## Методи API\n",
    "\n",
    "**baseURL:** /process-api/process\n",
    "\n",
    "### http-post - Встанвити статус обробки платіжної відомості з paymentid\n",
    "\n",
    "Моделює обробку платіжної відомості на зарахування зарплати в банку\n",
    "\n",
    "<details>\n",
    "  <summary>Детально про метод</summary>\n",
    "\n",
    "- обов'язкові http заголовки\n",
    "```text\n",
    "Content-Type: application/json\n",
    "```\n",
    "\n",
    "- параметри запиту\n",
    "\n",
    "  В **path** передається ідентифікатор відомості paymentid\n",
    "  \n",
    "- запит\n",
    "\n",
    "```json\n",
    "    {\n",
    "      \"proc_status\": \"CHECKING\", \n",
    "      \"proc_status_dsc\": \"Перевірка відомості\",\n",
    "      \"proc_error_dsc\": \"\"  \n",
    "     \n",
    "    }\n",
    "```\n",
    "\n",
    "- відповідь\n",
    "\n",
    "```json\n",
    " {\"paymentid\":\"PAYMENT-d6d4d6b42e93963c596fff4a65caf148\"}\n",
    "```\n",
    "  \n",
    "</details>\n",
    "    \n",
    "\n",
    "\n",
    "\n",
    "\n"
   ]
  },
  {
   "cell_type": "markdown",
   "id": "6272aec7-11ed-40fa-81aa-aed10006b4c5",
   "metadata": {},
   "source": [
    "## Unit-тести\n",
    "\n",
    "Для тестів створено стандартний тестовий клас: **TestProcessAPI**, з наступними функціями\n",
    "\n",
    "- test_processPayment - встановити статус обробки платіжної відомості\n",
    "\n",
    "\n",
    "в тестах перевіряється тільки відповідність відповіді на http status code =200\n"
   ]
  },
  {
   "cell_type": "code",
   "execution_count": 9,
   "id": "e4357898-818b-49de-b6f6-5b4586f83ad3",
   "metadata": {},
   "outputs": [
    {
     "name": "stdout",
     "output_type": "stream",
     "text": [
      "INFO:test_processPayment:Опис тесту: ================  Обробити відоміст на зарахування  ================\n",
      "INFO:test_processPayment:Отримую тестовий запит\n",
      "INFO:test_processPayment:Формую запит на url: http://localhost:8080/process-api/process/PAYMENT-d6d4d6b42e93963c596fff4a65caf148\n",
      "INFO:test_processPayment:Method: http-PUT\n",
      "INFO:test_processPayment:Тіло запиту: {\"proc_status\": \"CHECKING\", \"proc_status_dsc\": \"Перевірка відомості\", \"proc_error_dsc\": \"\"}\n",
      "INFO:test_processPayment:Виконю http запит\n",
      "INFO:test_processPayment:Response: {\"result\":\"PAYMENT-d6d4d6b42e93963c596fff4a65caf148\"}\n",
      "INFO:test_processPayment:Перевіря відповідь  statusCode=200\n"
     ]
    },
    {
     "name": "stderr",
     "output_type": "stream",
     "text": [
      ".\n",
      "----------------------------------------------------------------------\n",
      "Ran 1 test in 1.032s\n",
      "\n",
      "OK\n"
     ]
    }
   ],
   "source": [
    "import requests\n",
    "import unittest\n",
    "import sys\n",
    "import logging\n",
    "import json\n",
    "import datetime\n",
    "import base64\n",
    "\n",
    "logging.basicConfig(stream=sys.stdout, level=logging.INFO)\n",
    "\n",
    "class TestProcessAPI(unittest.TestCase):\n",
    "    baseurl=\"http://localhost:8080\"\n",
    "    requests={}\n",
    "    requests[\"paymentid\"]=\"PAYMENT-d6d4d6b42e93963c596fff4a65caf148\"\n",
    "    requests[\"processPayment\"]={\n",
    "                                \"proc_status\": \"CHECKING\", \n",
    "                                \"proc_status_dsc\": \"Перевірка відомості\",\n",
    "                                \"proc_error_dsc\": \"\"  \n",
    "                                }\n",
    "    \n",
    "    def setUp(self):\n",
    "        log=logging.getLogger('setUp')\n",
    "        #log.info(\"1\")\n",
    "\n",
    "    def tearDown(self):\n",
    "        log=logging.getLogger('tearDown')\n",
    "        #log.info(\"2\")\n",
    "  \n",
    "    def test_processPayment(self):\n",
    "        \"\"\"================  Обробити відоміст на зарахування  ================\"\"\"\n",
    "        log=logging.getLogger('test_processPayment')\n",
    "        log.info( f\"Опис тесту: {self.shortDescription()}\" )\n",
    "\n",
    "        log.info( f\"Отримую тестовий запит\")\n",
    "        req_obj = TestProcessAPI.requests[\"processPayment\"]\n",
    "        req_url=TestProcessAPI.baseurl + f\"/process-api/process/{TestProcessAPI.requests['paymentid']}\"\n",
    "        req_data=json.dumps(req_obj, ensure_ascii=False )\n",
    "        log.info(f\"Формую запит на url: {req_url}\")\n",
    "        log.info(\"Method: http-PUT\")\n",
    "        log.info(f\"Тіло запиту: {req_data}\")\n",
    "        \n",
    "        log.info(\"Виконю http запит\")\n",
    "        response = requests.post(req_url,  data=req_data , headers={'Content-Type': 'application/json'} )    \n",
    "        log.info(f\"Response: {response.text}\")\n",
    "        log.info(\"Перевіря відповідь  statusCode=200\")\n",
    "        self.assertEqual(response.status_code, 200)\n",
    "        res_dict=response.json()\n",
    "       \n",
    "\n",
    " \n",
    "    \n",
    "   \n",
    "def suite():\n",
    "    suite = unittest.TestSuite()\n",
    "    suite.addTest(TestProcessAPI('test_processPayment'))\n",
    "\n",
    "    return suite\n",
    "\n",
    "if __name__ == '__main__':\n",
    "    runner = unittest.TextTestRunner()\n",
    "    runner.run(suite())"
   ]
  },
  {
   "cell_type": "markdown",
   "id": "40ea79e0-0487-4827-a6f7-76db567cdf27",
   "metadata": {},
   "source": []
  },
  {
   "cell_type": "code",
   "execution_count": null,
   "id": "841abf2a-d43f-4489-b033-84f2cb2a60c7",
   "metadata": {},
   "outputs": [],
   "source": []
  },
  {
   "cell_type": "code",
   "execution_count": null,
   "id": "915292bc-cd84-43b8-94a6-79281e9e0c0b",
   "metadata": {},
   "outputs": [],
   "source": []
  }
 ],
 "metadata": {
  "kernelspec": {
   "display_name": "Python 3 (ipykernel)",
   "language": "python",
   "name": "python3"
  },
  "language_info": {
   "codemirror_mode": {
    "name": "ipython",
    "version": 3
   },
   "file_extension": ".py",
   "mimetype": "text/x-python",
   "name": "python",
   "nbconvert_exporter": "python",
   "pygments_lexer": "ipython3",
   "version": "3.11.2"
  }
 },
 "nbformat": 4,
 "nbformat_minor": 5
}
